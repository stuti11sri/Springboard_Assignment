{
 "cells": [
  {
   "cell_type": "code",
   "execution_count": 3,
   "metadata": {},
   "outputs": [
    {
     "name": "stdout",
     "output_type": "stream",
     "text": [
      "countryname\n",
      "People's Republic of China         19\n",
      "Republic of Indonesia              19\n",
      "Socialist Republic of Vietnam      17\n",
      "Republic of India                  16\n",
      "Republic of Yemen                  13\n",
      "Nepal                              12\n",
      "People's Republic of Bangladesh    12\n",
      "Kingdom of Morocco                 12\n",
      "Africa                             11\n",
      "Republic of Mozambique             11\n",
      "dtype: int64\n"
     ]
    }
   ],
   "source": [
    "import pandas as pd\n",
    "df_world_Bank_Project = pd.read_json (r'H:\\Data Set\\data_wrangling_json\\data_wrangling_json\\data\\world_bank_projects.json')\n",
    "df_world_Bank_Project.to_excel(r'H:\\Data Set\\data_wrangling_json\\data_wrangling_json\\InitialData.xlsx')\n",
    "count_of_proj=df_world_Bank_Project.groupby(['countryname']).size().sort_values(ascending=False)\n",
    "print(count_of_proj.head(10))"
   ]
  },
  {
   "cell_type": "code",
   "execution_count": 11,
   "metadata": {},
   "outputs": [
    {
     "name": "stdout",
     "output_type": "stream",
     "text": [
      "                                              name\n",
      "code                                              \n",
      "1                              Economic management\n",
      "2                         Public sector governance\n",
      "3                                      Rule of law\n",
      "4         Financial and private sector development\n",
      "5                            Trade and integration\n",
      "6            Social protection and risk management\n",
      "7                      Social dev/gender/inclusion\n",
      "8                                Human development\n",
      "9                                Urban development\n",
      "10                               Rural development\n",
      "11    Environment and natural resources management\n"
     ]
    }
   ],
   "source": [
    "import numpy as np\n",
    "df_major_theme_cds=df_world_Bank_Project['mjtheme_namecode']\n",
    "#empty dataframe to store name and code for all the rows in single dataframe\n",
    "df_theme_name_code = pd.DataFrame(columns=['code','name'])\n",
    "for items in df_major_theme_cds.iteritems(): \n",
    "    x=items[1]\n",
    "    dummy=pd.DataFrame(x)\n",
    "    df_theme_name_code=pd.concat([dummy,df_theme_name_code],ignore_index=True)\n",
    "\n",
    "df_theme_name_code.to_excel(r'H:\\Data Set\\data_wrangling_json\\data_wrangling_json\\NewNameCode.xlsx')\n",
    "#replacing name with NAN\n",
    "df_theme_name_code['name'].replace('', np.nan, inplace=True)\n",
    "#dropping rows with blank fields\n",
    "df_theme_name_code.dropna(subset=['name'],how='any',inplace = True)\n",
    "#dropping duplicate rows\n",
    "df_theme_name_code.drop_duplicates(subset =\"code\",keep='first',inplace = True) \n",
    "#sorting the dataframe based on code\n",
    "df_theme_name_code.sort_values(['code'],  inplace=True)\n",
    "#resetting the index\n",
    "df_theme_name_code.reset_index(inplace = True,drop=True)\n",
    "# dataframe to sort index in correct order\n",
    "newdf_major=pd.DataFrame(index=[0,1,2,3,4,5,6,7,8,9,10,11,12] , columns=['code','name'])\n",
    "\n",
    "for i in range (0,11):\n",
    "    x=df_theme_name_code.iloc[i][0]\n",
    "    y=df_theme_name_code.name[i]\n",
    "    p= int(x)\n",
    "    newdf_major.iloc[p][0]=x\n",
    "    newdf_major.iloc[p][1]=y\n",
    "\n",
    "newdf_major.dropna(inplace=True) \n",
    "newdf_major.set_index('code', inplace=True)\n",
    "print(newdf_major)\n",
    "\n",
    "newdf_major.to_excel(r'H:\\Data Set\\data_wrangling_json\\data_wrangling_json\\NameCode.xlsx') "
   ]
  },
  {
   "cell_type": "code",
   "execution_count": 13,
   "metadata": {},
   "outputs": [
    {
     "name": "stderr",
     "output_type": "stream",
     "text": [
      "C:\\Users\\User\\Anaconda3\\lib\\site-packages\\ipykernel_launcher.py:8: SettingWithCopyWarning: \n",
      "A value is trying to be set on a copy of a slice from a DataFrame\n",
      "\n",
      "See the caveats in the documentation: http://pandas.pydata.org/pandas-docs/stable/indexing.html#indexing-view-versus-copy\n",
      "  \n"
     ]
    }
   ],
   "source": [
    "# df_major_name_detail is dataframe with name and code detail\n",
    "df_major_name_detail = pd.read_excel (r'H:\\Data Set\\data_wrangling_json\\data_wrangling_json\\NewNameCode.xlsx')\n",
    "df_major_name_detail['name'].replace('', np.nan, inplace=True)\n",
    "for i, row in df_major_name_detail.iterrows(): \n",
    "    if(pd.isnull(row[2])):\n",
    "        h=row[1]\n",
    "        r=newdf_major.name[h-1]\n",
    "        df_major_name_detail.name[i]=r\n",
    "df_major_name_detail.drop('Unnamed: 0' , 1 ,inplace=True)\n",
    "df_major_name_detail.set_index('code', inplace=True)        \n",
    "df_major_name_detail.to_excel(r'H:\\Data Set\\data_wrangling_json\\data_wrangling_json\\MissingNameUpdate.xlsx') "
   ]
  },
  {
   "cell_type": "code",
   "execution_count": null,
   "metadata": {},
   "outputs": [],
   "source": []
  }
 ],
 "metadata": {
  "kernelspec": {
   "display_name": "Python 3",
   "language": "python",
   "name": "python3"
  },
  "language_info": {
   "codemirror_mode": {
    "name": "ipython",
    "version": 3
   },
   "file_extension": ".py",
   "mimetype": "text/x-python",
   "name": "python",
   "nbconvert_exporter": "python",
   "pygments_lexer": "ipython3",
   "version": "3.7.3"
  }
 },
 "nbformat": 4,
 "nbformat_minor": 2
}
